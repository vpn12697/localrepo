{
  "cells": [
    {
      "cell_type": "markdown",
      "metadata": {
        "id": "view-in-github",
        "colab_type": "text"
      },
      "source": [
        "<a href=\"https://colab.research.google.com/github/vpn12697/localrepo/blob/main/4_07_Loops.ipynb\" target=\"_parent\"><img src=\"https://colab.research.google.com/assets/colab-badge.svg\" alt=\"Open In Colab\"/></a>"
      ]
    },
    {
      "cell_type": "markdown",
      "metadata": {
        "id": "fd0db2c1-4a41-4654-9bd9-11e70b425b67"
      },
      "source": [
        "<p style=\"text-align:center\">\n",
        "    <a href=\"https://skills.network/?utm_medium=Exinfluencer&utm_source=Exinfluencer&utm_content=000026UJ&utm_term=10006555&utm_id=NA-SkillsNetwork-Channel-SkillsNetworkCoursesIBMDeveloperSkillsNetworkPY0101ENSkillsNetwork1005-2023-01-01\">\n",
        "    <img src=\"https://cf-courses-data.s3.us.cloud-object-storage.appdomain.cloud/assets/logos/SN_web_lightmode.png\" width=\"200\" alt=\"Skills Network Logo\"  />\n",
        "    </a>\n",
        "</p>\n",
        "\n",
        "\n",
        "# Loops in Python\n",
        "\n",
        "\n",
        "Estimated time needed: **20** minutes\n",
        "    \n",
        "\n",
        "## Objectives\n",
        "\n",
        "After completing this lab you will be able to:\n",
        "\n",
        "* work with the loop statements in Python, including for-loop and while-loop.\n"
      ]
    },
    {
      "cell_type": "markdown",
      "metadata": {
        "id": "ede889c9-69fe-494f-ace2-46bbbdd668d4"
      },
      "source": [
        "<h1>Loops in Python</h1>\n"
      ]
    },
    {
      "cell_type": "markdown",
      "metadata": {
        "id": "544d3033-c35a-4f86-aa85-fd1c7c5dd370"
      },
      "source": [
        "<p><strong>Welcome!</strong> This notebook will teach you about the loops in the Python Programming Language. By the end of this lab, you'll know how to use the loop statements in Python, including for loop, and while loop.</p>\n"
      ]
    },
    {
      "cell_type": "markdown",
      "metadata": {
        "id": "d42dd7f1-8cff-4c5e-b673-00c70771b2ce"
      },
      "source": [
        "<h2>Table of Contents</h2>\n",
        "<div class=\"alert alert-block alert-info\" style=\"margin-top: 20px\">\n",
        "    <ul>\n",
        "        <li>\n",
        "            <a href=\"#loop\">Loops</a>\n",
        "            <ul>\n",
        "                <li><a href=\"range\">Range</a></li>\n",
        "                <li><a href=\"for\">What is <code>for</code> loop?</a></li>\n",
        "                <li><a href=\"while\">What is <code>while</code> loop?</a></li>\n",
        "            </ul>\n",
        "        </li>\n",
        "        <li>\n",
        "            <a href=\"#quiz\">Quiz on Loops</a>\n",
        "        </li>\n",
        "    </ul>\n",
        "\n",
        "</div>\n",
        "\n",
        "<hr>\n"
      ]
    },
    {
      "cell_type": "markdown",
      "metadata": {
        "id": "7abaee18-5271-430f-9202-a110c4ad88b5"
      },
      "source": [
        "<h2 id=\"loop\">Loops</h2>\n"
      ]
    },
    {
      "cell_type": "markdown",
      "metadata": {
        "id": "df051031-0ae5-428e-9900-2865d3d8d486"
      },
      "source": [
        "<h3 id=\"range\">Range</h3>\n"
      ]
    },
    {
      "cell_type": "markdown",
      "metadata": {
        "id": "c3e5b352-0c62-4a93-95e3-8355dc9a16aa"
      },
      "source": [
        "Sometimes, you might want to repeat a given operation many times. Repeated executions like this are performed by <b>loops</b>. We will look at two types of loops, <code>for</code> loops and <code>while</code> loops.\n",
        "\n",
        "Before we discuss loops lets discuss the <code>range</code> object. It is helpful to think of the range object as an ordered list. For now, let's look at the simplest case. If we would like to generate an object that contains elements ordered from 0 to 2 we simply use the following command:\n"
      ]
    },
    {
      "cell_type": "code",
      "execution_count": 1,
      "metadata": {
        "colab": {
          "base_uri": "https://localhost:8080/"
        },
        "id": "018614cf-7579-4a3a-989d-6abaf7378194",
        "outputId": "00b4863e-00db-4ee6-e7b8-e0fb173935ac"
      },
      "outputs": [
        {
          "output_type": "execute_result",
          "data": {
            "text/plain": [
              "range(0, 3)"
            ]
          },
          "metadata": {},
          "execution_count": 1
        }
      ],
      "source": [
        "# Use the range\n",
        "\n",
        "range(3)"
      ]
    },
    {
      "cell_type": "markdown",
      "metadata": {
        "id": "26ed68ab-e381-431f-8c85-d28c7f12aa26"
      },
      "source": [
        "<img src=\"https://cf-courses-data.s3.us.cloud-object-storage.appdomain.cloud/IBMDeveloperSkillsNetwork-PY0101EN-SkillsNetwork/labs/Module%203/images/range.PNG\" width=\"300\">\n"
      ]
    },
    {
      "cell_type": "markdown",
      "metadata": {
        "id": "40beb471-3413-4ba9-8df4-4adff2c338ab"
      },
      "source": [
        "**_NOTE: While in Python 2.x it returned a list as seen in video lessons, in 3.x it returns a range object._**\n"
      ]
    },
    {
      "cell_type": "markdown",
      "metadata": {
        "id": "92e2d50e-c942-43e7-b513-52489328edc4"
      },
      "source": [
        "<h3 id=\"for\">What is <code>for</code> loop?</h3>\n"
      ]
    },
    {
      "cell_type": "markdown",
      "metadata": {
        "id": "42753669-df4a-46c5-88d7-fa5826c92d09"
      },
      "source": [
        "The <code>for</code> loop enables you to execute a code block multiple times. For example, you would use this if you would like to print out every element in a list.    \n",
        "Let's try to use a <code>for</code> loop to print all the years presented in the list <code>dates</code>:\n"
      ]
    },
    {
      "cell_type": "markdown",
      "metadata": {
        "id": "18f7e435-e54a-475f-ae40-1a52b790774f"
      },
      "source": [
        "This can be done as follows:\n"
      ]
    },
    {
      "cell_type": "code",
      "execution_count": 2,
      "metadata": {
        "colab": {
          "base_uri": "https://localhost:8080/"
        },
        "id": "ba1a6633-62f7-49ab-af9e-aadc97043ab2",
        "outputId": "932fc062-ea7b-4de2-a1d8-8447619d87f5"
      },
      "outputs": [
        {
          "output_type": "stream",
          "name": "stdout",
          "text": [
            "1982\n",
            "1980\n",
            "1973\n"
          ]
        }
      ],
      "source": [
        "# For loop example\n",
        "\n",
        "dates = [1982,1980,1973]\n",
        "N = len(dates)\n",
        "\n",
        "for i in range(N):\n",
        "    print(dates[i])"
      ]
    },
    {
      "cell_type": "markdown",
      "metadata": {
        "id": "f85709fc-4450-4fc2-a5ae-1a57656f8aac"
      },
      "source": [
        "The code in the indent is executed <code>N</code> times, each time the value of <code>i</code> is increased by 1 for every execution. The statement executed is to <code>print</code> out the value in the list at index <code>i</code> as shown here:\n"
      ]
    },
    {
      "cell_type": "markdown",
      "metadata": {
        "id": "4ee0b6e6-d96c-4f84-9482-3e0e609464ac"
      },
      "source": [
        "<img src=\"https://cf-courses-data.s3.us.cloud-object-storage.appdomain.cloud/IBMDeveloperSkillsNetwork-PY0101EN-SkillsNetwork/labs/Module%203/images/LoopsForRange.gif\" width=\"800\">\n"
      ]
    },
    {
      "cell_type": "markdown",
      "metadata": {
        "id": "3881b8f3-142a-49c4-900e-90c587d5270e"
      },
      "source": [
        "In this example we can print out a sequence of numbers from 0 to 7:\n"
      ]
    },
    {
      "cell_type": "code",
      "execution_count": 3,
      "metadata": {
        "colab": {
          "base_uri": "https://localhost:8080/"
        },
        "id": "36e31830-642e-493a-87f0-616504df42f8",
        "outputId": "c6db3693-f37f-493b-aa1e-cc24d218deda"
      },
      "outputs": [
        {
          "output_type": "stream",
          "name": "stdout",
          "text": [
            "0\n",
            "1\n",
            "2\n",
            "3\n",
            "4\n",
            "5\n",
            "6\n",
            "7\n"
          ]
        }
      ],
      "source": [
        "# Example of for loop\n",
        "\n",
        "for i in range(0, 8):\n",
        "    print(i)"
      ]
    },
    {
      "cell_type": "markdown",
      "metadata": {
        "id": "82f06ce4-61d8-4749-9a9a-6829036012db"
      },
      "source": [
        "In Python we can directly access the elements in the list as follows:\n"
      ]
    },
    {
      "cell_type": "code",
      "execution_count": 4,
      "metadata": {
        "colab": {
          "base_uri": "https://localhost:8080/"
        },
        "id": "233c3756-756c-4aaa-89c4-ecda0d5ad368",
        "outputId": "2e2227e5-da44-4e82-e349-b1e9143f0b51"
      },
      "outputs": [
        {
          "output_type": "stream",
          "name": "stdout",
          "text": [
            "1982\n",
            "1980\n",
            "1973\n"
          ]
        }
      ],
      "source": [
        "# Exmaple of for loop, loop through list\n",
        "\n",
        "for year in dates:\n",
        "    print(year)"
      ]
    },
    {
      "cell_type": "markdown",
      "metadata": {
        "id": "e30dd0de-895a-43cc-8218-6b11d39cdccc"
      },
      "source": [
        "For each iteration, the value of the variable <code>year</code> behaves like the value of <code>dates[i]</code> in the  first example:\n"
      ]
    },
    {
      "cell_type": "markdown",
      "metadata": {
        "id": "6c403244-8805-4985-a8c5-8e15d59afb6b"
      },
      "source": [
        "<img src=\"https://cf-courses-data.s3.us.cloud-object-storage.appdomain.cloud/IBMDeveloperSkillsNetwork-PY0101EN-SkillsNetwork/labs/Module%203/images/LoopsForList.gif\" width=\"800\">\n"
      ]
    },
    {
      "cell_type": "markdown",
      "metadata": {
        "id": "753d8fcf-bf4c-45c7-90d2-9f6b522d2f9b"
      },
      "source": [
        "We can change the elements in a list:\n"
      ]
    },
    {
      "cell_type": "code",
      "execution_count": 5,
      "metadata": {
        "colab": {
          "base_uri": "https://localhost:8080/"
        },
        "id": "63169806-032d-4bbf-b5f8-3f9df86a5310",
        "outputId": "ad68aaf4-e6c9-4c04-d7fd-f89c7f271358"
      },
      "outputs": [
        {
          "output_type": "stream",
          "name": "stdout",
          "text": [
            "Before square  0 is red\n",
            "After square  0 is white\n",
            "Before square  1 is yellow\n",
            "After square  1 is white\n",
            "Before square  2 is green\n",
            "After square  2 is white\n",
            "Before square  3 is purple\n",
            "After square  3 is white\n",
            "Before square  4 is blue\n",
            "After square  4 is white\n"
          ]
        }
      ],
      "source": [
        "# Use for loop to change the elements in list\n",
        "\n",
        "squares = ['red', 'yellow', 'green', 'purple', 'blue']\n",
        "\n",
        "for i in range(0, 5):\n",
        "    print(\"Before square \", i, 'is',  squares[i])\n",
        "    squares[i] = 'white'\n",
        "    print(\"After square \", i, 'is',  squares[i])"
      ]
    },
    {
      "cell_type": "markdown",
      "metadata": {
        "id": "9571eeea-e652-4920-8333-61044f204faf"
      },
      "source": [
        " We can access the index and the elements of a list as follows:\n"
      ]
    },
    {
      "cell_type": "code",
      "execution_count": 6,
      "metadata": {
        "colab": {
          "base_uri": "https://localhost:8080/"
        },
        "id": "9f895e81-0104-4c68-a60a-65e44472582a",
        "outputId": "55616621-4041-4a8c-8cb3-d42ffed97ef2"
      },
      "outputs": [
        {
          "output_type": "stream",
          "name": "stdout",
          "text": [
            "0 red\n",
            "1 yellow\n",
            "2 green\n",
            "3 purple\n",
            "4 blue\n"
          ]
        }
      ],
      "source": [
        "# Loop through the list and iterate on both index and element value\n",
        "\n",
        "squares=['red', 'yellow', 'green', 'purple', 'blue']\n",
        "\n",
        "for i, square in enumerate(squares):\n",
        "    print(i, square)"
      ]
    },
    {
      "cell_type": "markdown",
      "metadata": {
        "id": "b6a25909-ecfe-4d2c-9c34-2f956b25ce57"
      },
      "source": [
        "<h3 id=\"while\">What is <code>while</code> loop?</h3>\n"
      ]
    },
    {
      "cell_type": "markdown",
      "metadata": {
        "id": "2bb8a3f1-4ee1-4f6c-9083-dadf81bf0d28"
      },
      "source": [
        "As you can see, the <code>for</code> loop is used for a controlled flow of repetition. However, what if we don't know when we want to stop the loop? What if we want to keep executing a code block until a certain condition is met? The <code>while</code> loop exists as a tool for repeated execution based on a condition. The code block will keep being executed until the given logical condition returns a **False** boolean value.\n"
      ]
    },
    {
      "cell_type": "markdown",
      "metadata": {
        "id": "fd60e092-56a4-4cd3-9d2e-32d9c3cdbdd1"
      },
      "source": [
        "#### Here's how a while loop works:\n",
        "\n",
        "1. First, you specify a condition that the loop will check before each iteration (repetition) of the code block.\n",
        "2. If the condition is initially true, the code block is executed.\n",
        "3. After executing the code block, the condition is checked again.\n",
        "4. If the condition is still true, the code block is executed again.\n",
        "5. Steps 3 and 4 repeat until the condition becomes false.\n",
        "6. Once the condition becomes false, the loop stops, and the program continues with the next line of code after the loop.\n"
      ]
    },
    {
      "cell_type": "markdown",
      "metadata": {
        "id": "604ee527-f7ee-4ef8-a674-389a188962ef"
      },
      "source": [
        "**Here's an example of a while loop that prints numbers from 1 to 5:**\n"
      ]
    },
    {
      "cell_type": "code",
      "execution_count": 7,
      "metadata": {
        "colab": {
          "base_uri": "https://localhost:8080/"
        },
        "id": "7ffee84d-37b8-4075-8b26-c1eed3615da6",
        "outputId": "5b11a896-63fd-4254-8883-accaf21214fc"
      },
      "outputs": [
        {
          "output_type": "stream",
          "name": "stdout",
          "text": [
            "1\n",
            "2\n",
            "3\n",
            "4\n",
            "5\n"
          ]
        }
      ],
      "source": [
        "count = 1\n",
        "while count <= 5:\n",
        "    print(count)\n",
        "    count += 1"
      ]
    },
    {
      "cell_type": "markdown",
      "metadata": {
        "id": "29a1003a-c386-45bc-a724-b336ba16c677"
      },
      "source": [
        "In this example, the condition **count <= 5** is checked before each iteration. As long as count is less than or equal to 5, the code block inside the loop is executed. After each iteration, the value of count is incremented by 1 using count += 1. Once count reaches 6, the condition becomes false, and the loop stops.\n"
      ]
    },
    {
      "cell_type": "markdown",
      "metadata": {
        "id": "60853e29-0edb-49c2-aa19-bf5457c668cf"
      },
      "source": [
        "Let’s say we would like to iterate through list <code>dates</code> and stop at the year 1973, then print out the number of iterations. This can be done with the following block of code:\n"
      ]
    },
    {
      "cell_type": "code",
      "execution_count": 8,
      "metadata": {
        "colab": {
          "base_uri": "https://localhost:8080/"
        },
        "id": "afbbe007-c713-49c4-b027-d5a6196643f1",
        "outputId": "1a32ef74-ecae-4745-9030-0a1303faffe6"
      },
      "outputs": [
        {
          "output_type": "stream",
          "name": "stdout",
          "text": [
            "1982\n",
            "1980\n",
            "It took  2 repetitions to get out of loop.\n"
          ]
        }
      ],
      "source": [
        "# While Loop Example\n",
        "\n",
        "dates = [1982, 1980, 1973, 2000]\n",
        "\n",
        "i = 0\n",
        "year = dates[0]\n",
        "\n",
        "while(year != 1973):\n",
        "    print(year)\n",
        "    i = i + 1\n",
        "    year = dates[i]\n",
        "\n",
        "\n",
        "print(\"It took \", i ,\"repetitions to get out of loop.\")"
      ]
    },
    {
      "cell_type": "markdown",
      "metadata": {
        "id": "7fd7aeb7-e95f-4ac4-a6db-d6579fcdf8dc"
      },
      "source": [
        "A while loop iterates merely until the condition in the argument is not  met, as shown in the following figure:\n"
      ]
    },
    {
      "cell_type": "markdown",
      "metadata": {
        "id": "2932fec0-73ed-4527-9ae2-7d891ea41db0"
      },
      "source": [
        "<img src=\"https://cf-courses-data.s3.us.cloud-object-storage.appdomain.cloud/IBMDeveloperSkillsNetwork-PY0101EN-SkillsNetwork/labs/Module%203/images/LoopsWhile.gif\" width=\"650\">\n"
      ]
    },
    {
      "cell_type": "markdown",
      "metadata": {
        "id": "3c1d2ffb-f0df-49d7-92f9-bd4fe7e7c9c0"
      },
      "source": [
        "\n",
        "**The main difference between a while loop and a for loop in Python is how they control the flow of execution and handle iterations.**\n"
      ]
    },
    {
      "cell_type": "markdown",
      "metadata": {
        "id": "48382533-96ee-49d8-9c07-741c50cdb8e6"
      },
      "source": [
        "### Key point of While Loop:\n",
        "\n",
        "1. A while loop repeatedly executes a block of code as long as a given condition is true.\n",
        "2. It does not have a fixed number of iterations but continues executing until the condition becomes false.\n",
        "3. The condition is checked before each iteration, and if it's false initially, the code block is skipped entirely.\n",
        "4. The condition is typically based on a variable or expression that can change during the execution of the loop.\n",
        "5. It provides more flexibility in terms of controlling the loop's execution based on dynamic conditions.\n"
      ]
    },
    {
      "cell_type": "markdown",
      "metadata": {
        "id": "791c1d17-dd21-4e2e-9a93-1be010c65fd1"
      },
      "source": [
        "### Key point of For Loop:\n",
        "\n",
        "1. A for loop iterates over a sequence (such as a list, string, or range) or any object that supports iteration.\n",
        "2. It has a predefined number of iterations based on the length of the sequence or the number of items to iterate over.\n",
        "3. It automatically handles the iteration and does not require maintaining a separate variable for tracking the iteration count.\n",
        "4. It simplifies the code by encapsulating the iteration logic within the loop itself.\n",
        "5. It is commonly used when you know the exact number of iterations or need to iterate over each item in a collection.\n"
      ]
    },
    {
      "cell_type": "markdown",
      "metadata": {
        "id": "8076eeb0-4198-4f9e-8fcc-61ac37f928c4"
      },
      "source": [
        "<hr>\n"
      ]
    },
    {
      "cell_type": "markdown",
      "metadata": {
        "id": "26738e5b-85dd-4188-bc2d-9f6a158be82d"
      },
      "source": [
        "<h2 id=\"quiz\">Practise Exercises on Loops</h2>\n"
      ]
    },
    {
      "cell_type": "markdown",
      "metadata": {
        "id": "d34f7257-d9b9-432f-9236-1a79ef112ed2"
      },
      "source": [
        "Write a <code>for</code> loop the prints out all the element between <b>-5</b> and <b>5</b> using the range function.\n"
      ]
    },
    {
      "cell_type": "code",
      "execution_count": 10,
      "metadata": {
        "colab": {
          "base_uri": "https://localhost:8080/"
        },
        "id": "fa977836-c28c-471d-baa7-b742dbc2f764",
        "outputId": "52caae07-7194-4b0f-a45e-0e8f079f4ad9"
      },
      "outputs": [
        {
          "output_type": "stream",
          "name": "stdout",
          "text": [
            "-4\n",
            "-3\n",
            "-2\n",
            "-1\n",
            "0\n",
            "1\n",
            "2\n",
            "3\n",
            "4\n"
          ]
        }
      ],
      "source": [
        "# Write your code below and press Shift+Enter to execute\n",
        "for i in range(-4, 5):\n",
        "    print(i)"
      ]
    },
    {
      "cell_type": "markdown",
      "metadata": {
        "id": "008717d0-f69f-40bf-8c5e-898f1060b75e"
      },
      "source": [
        "<details><summary>Click here for the solution</summary>\n",
        "\n",
        "```python\n",
        "for i in range(-4, 5):\n",
        "    print(i)\n",
        "    \n",
        "```\n",
        "\n",
        "</details>\n"
      ]
    },
    {
      "cell_type": "markdown",
      "metadata": {
        "id": "7ff020bc-e6e7-4256-a1b9-ffae5c3741e4"
      },
      "source": [
        "Print the elements of the following list:\n",
        "<code>Genres=[ 'rock', 'R&B', 'Soundtrack', 'R&B', 'soul', 'pop']</code>\n",
        "Make sure you follow Python conventions.\n"
      ]
    },
    {
      "cell_type": "code",
      "execution_count": 9,
      "metadata": {
        "colab": {
          "base_uri": "https://localhost:8080/"
        },
        "id": "bfa2ca6d-ea46-49a5-95e3-882e11b44403",
        "outputId": "848dc1de-3e22-40f5-f0d0-fb14d61660d8"
      },
      "outputs": [
        {
          "output_type": "stream",
          "name": "stdout",
          "text": [
            "rock\n",
            "R&B\n",
            "Soundtrack\n",
            "R&B\n",
            "soul\n",
            "pop\n"
          ]
        }
      ],
      "source": [
        "# Write your code below and press Shift+Enter to execute\n",
        "Genres = ['rock', 'R&B', 'Soundtrack', 'R&B', 'soul', 'pop']\n",
        "for Genre in Genres:\n",
        "    print(Genre)"
      ]
    },
    {
      "cell_type": "markdown",
      "metadata": {
        "id": "b3a21113-3617-4c18-9348-273f1f4f95d0"
      },
      "source": [
        "<details><summary>Click here for the solution</summary>\n",
        "\n",
        "```python\n",
        "Genres = ['rock', 'R&B', 'Soundtrack', 'R&B', 'soul', 'pop']\n",
        "for Genre in Genres:\n",
        "    print(Genre)\n",
        "    \n",
        "```\n",
        "\n",
        "</details>\n"
      ]
    },
    {
      "cell_type": "markdown",
      "metadata": {
        "id": "a9db9af0-247e-4eb1-8fc0-b725fc24c3a2"
      },
      "source": [
        "<hr>\n"
      ]
    },
    {
      "cell_type": "markdown",
      "metadata": {
        "id": "de3e1596-2891-48f6-bedb-63b7c40d00de"
      },
      "source": [
        "Write a for loop that prints out the following list: <code>squares=['red', 'yellow', 'green', 'purple', 'blue']</code>\n"
      ]
    },
    {
      "cell_type": "code",
      "execution_count": 11,
      "metadata": {
        "colab": {
          "base_uri": "https://localhost:8080/"
        },
        "id": "57b328e7-5db7-4c33-9a40-fbb800ee74b7",
        "outputId": "1c432f8b-6626-4f85-b356-04f0f15990a7"
      },
      "outputs": [
        {
          "output_type": "stream",
          "name": "stdout",
          "text": [
            "red\n",
            "yellow\n",
            "green\n",
            "purple\n",
            "blue\n"
          ]
        }
      ],
      "source": [
        "# Write your code below and press Shift+Enter to execute\n",
        "squares=['red', 'yellow', 'green', 'purple', 'blue']\n",
        "for square in squares:\n",
        "    print(square)"
      ]
    },
    {
      "cell_type": "markdown",
      "metadata": {
        "id": "f38a2a4a-ecbe-41c1-969d-a097e18668f9"
      },
      "source": [
        "<details><summary>Click here for the solution</summary>\n",
        "\n",
        "```python\n",
        "squares=['red', 'yellow', 'green', 'purple', 'blue']\n",
        "for square in squares:\n",
        "    print(square)\n",
        "    \n",
        "```\n",
        "\n",
        "</details>\n"
      ]
    },
    {
      "cell_type": "markdown",
      "metadata": {
        "id": "2012c9bc-7bc5-419b-850e-1eb3c41720af"
      },
      "source": [
        "<hr>\n"
      ]
    },
    {
      "cell_type": "markdown",
      "metadata": {
        "id": "0dd7283c-d3d1-47cd-90ae-c46770fa1845"
      },
      "source": [
        "Write a while loop to display the values of the Rating of an album playlist stored in the list <code>PlayListRatings</code>. If the score is less than 6, exit the loop. The list <code>PlayListRatings</code> is given by: <code>PlayListRatings = [10, 9.5, 10, 8, 7.5, 5, 10, 10]</code>\n"
      ]
    },
    {
      "cell_type": "code",
      "execution_count": 12,
      "metadata": {
        "colab": {
          "base_uri": "https://localhost:8080/"
        },
        "id": "38943c14-da74-4e33-98bf-1a9d3d0a47e1",
        "outputId": "6933e857-ccdc-4a86-afc6-92cd6514fec4"
      },
      "outputs": [
        {
          "output_type": "stream",
          "name": "stdout",
          "text": [
            "10\n",
            "9.5\n",
            "10\n",
            "8\n",
            "7.5\n"
          ]
        }
      ],
      "source": [
        "# Write your code below and press Shift+Enter to execute\n",
        "PlayListRatings = [10, 9.5, 10, 8, 7.5, 5, 10, 10]\n",
        "i = 0\n",
        "rating = PlayListRatings[0]\n",
        "while(i < len(PlayListRatings) and rating >= 6):\n",
        "    print(rating)\n",
        "    i = i + 1\n",
        "    rating = PlayListRatings[i]"
      ]
    },
    {
      "cell_type": "markdown",
      "metadata": {
        "id": "bd01eec5-55ac-4386-b203-1a518fef2fb2"
      },
      "source": [
        "<details><summary>Click here for the solution</summary>\n",
        "\n",
        "```python\n",
        "PlayListRatings = [10, 9.5, 10, 8, 7.5, 5, 10, 10]\n",
        "i = 0\n",
        "rating = PlayListRatings[0]\n",
        "while(i < len(PlayListRatings) and rating >= 6):\n",
        "    print(rating)\n",
        "    i = i + 1\n",
        "    rating = PlayListRatings[i]    \n",
        "```\n",
        "\n",
        "</details>\n"
      ]
    },
    {
      "cell_type": "markdown",
      "metadata": {
        "id": "73d02bcc-e486-4c83-97ab-2f78a77616eb"
      },
      "source": [
        "Write a while loop to copy the strings <code>'orange'</code> of the list <code>squares</code> to the list <code>new_squares</code>. Stop and exit the loop if the value on the list is not <code>'orange'</code>:\n"
      ]
    },
    {
      "cell_type": "code",
      "execution_count": 13,
      "metadata": {
        "colab": {
          "base_uri": "https://localhost:8080/"
        },
        "id": "3a0f6f4c-2145-4bc8-a60c-cee03bb1457d",
        "outputId": "1bb2ffaf-eb82-41b3-e13a-d7aa3dfbcc5d"
      },
      "outputs": [
        {
          "output_type": "stream",
          "name": "stdout",
          "text": [
            "['orange', 'orange']\n"
          ]
        }
      ],
      "source": [
        "# Write your code below and press Shift+Enter to execute\n",
        "\n",
        "squares = ['orange', 'orange', 'purple', 'blue ', 'orange']\n",
        "new_squares = []\n",
        "i = 0\n",
        "while(i < len(squares) and squares[i] == 'orange'):\n",
        "    new_squares.append(squares[i])\n",
        "    i = i + 1\n",
        "print (new_squares)\n"
      ]
    },
    {
      "cell_type": "markdown",
      "metadata": {
        "id": "cb7ab917-1d47-48ea-bd45-dd9033341942"
      },
      "source": [
        "<details><summary>Click here for the solution</summary>\n",
        "\n",
        "```python\n",
        "squares = ['orange', 'orange', 'purple', 'blue ', 'orange']\n",
        "new_squares = []\n",
        "i = 0\n",
        "while(i < len(squares) and squares[i] == 'orange'):\n",
        "    new_squares.append(squares[i])\n",
        "    i = i + 1\n",
        "print (new_squares)\n",
        "    \n",
        "```\n",
        "\n",
        "</details>\n",
        "\n"
      ]
    },
    {
      "cell_type": "markdown",
      "metadata": {
        "id": "ba281139-6606-4fc8-af19-c8273821f3e9"
      },
      "source": [
        "### Some real-life problems!\n"
      ]
    },
    {
      "cell_type": "markdown",
      "metadata": {
        "id": "9eb5ab06-bad3-4116-9d0b-9f905789754f"
      },
      "source": [
        "Your little brother has just learned multiplication tables in school. Today he has learned tables of 6 and 7. Help him memorise both the tables by printing them using <code>for</code> loop.\n"
      ]
    },
    {
      "cell_type": "code",
      "execution_count": 14,
      "metadata": {
        "colab": {
          "base_uri": "https://localhost:8080/"
        },
        "id": "4f7a7637-ebd9-4060-8303-35b598ebc8f0",
        "outputId": "414a487c-248f-4913-f192-df86afdba994"
      },
      "outputs": [
        {
          "output_type": "stream",
          "name": "stdout",
          "text": [
            "Multiplication table of 6:\n",
            "6* 0 = 0\n",
            "6* 1 = 6\n",
            "6* 2 = 12\n",
            "6* 3 = 18\n",
            "6* 4 = 24\n",
            "6* 5 = 30\n",
            "6* 6 = 36\n",
            "6* 7 = 42\n",
            "6* 8 = 48\n",
            "6* 9 = 54\n",
            "Multiplication table of 7:\n",
            "7* 0 = 0\n",
            "7* 1 = 7\n",
            "7* 2 = 14\n",
            "7* 3 = 21\n",
            "7* 4 = 28\n",
            "7* 5 = 35\n",
            "7* 6 = 42\n",
            "7* 7 = 49\n",
            "7* 8 = 56\n",
            "7* 9 = 63\n"
          ]
        }
      ],
      "source": [
        "# Write your code here\n",
        "print(\"Multiplication table of 6:\")\n",
        "for i in range (10):\n",
        "    print(\"6*\",i,\"=\",6*i)\n",
        "print(\"Multiplication table of 7:\")\n",
        "for i in range (10):\n",
        "    print(\"7*\",i,\"=\",7*i)"
      ]
    },
    {
      "cell_type": "markdown",
      "metadata": {
        "id": "35f27bca-77ec-485d-8a83-681f511d27de"
      },
      "source": [
        "<details><summary>Click here for the hint</summary>\n",
        "\n",
        "Write two for loops. One to print the multiplication table of 6 and the other for 7\n",
        "\n",
        "</details>\n"
      ]
    },
    {
      "cell_type": "markdown",
      "metadata": {
        "id": "2a9d8710-7380-4c05-af18-024d899a2691"
      },
      "source": [
        "<details><summary>Click here for the solution</summary>\n",
        "\n",
        "```python\n",
        "print(\"Multiplication table of 6:\")\n",
        "for i in range (10):\n",
        "    print(\"6*\",i,\"=\",6*i)\n",
        "print(\"Multiplication table of 7:\")\n",
        "for i in range (10):\n",
        "    print(\"7*\",i,\"=\",7*i)\n",
        "    \n",
        "```\n",
        "\n",
        "</details>\n"
      ]
    },
    {
      "cell_type": "markdown",
      "metadata": {
        "id": "9901d084-6cb9-483c-bd64-f75f3cef7f05"
      },
      "source": [
        "<hr>\n"
      ]
    },
    {
      "cell_type": "markdown",
      "metadata": {
        "id": "6f1b6290-45fd-4ef7-b05f-357d80f3af53"
      },
      "source": [
        "The following is a list of animals in a National Zoo.\n",
        "<code>Animals = [\"lion\", \"giraffe\", \"gorilla\", \"parrots\", \"crocodile\",\"deer\", \"swan\"]</code>\n",
        "\n",
        "Your brother needs to write an essay on the animals whose names are made of 7 letters. Help him find those animals through a <code>while</code> loop and create a separate list of such animals.\n"
      ]
    },
    {
      "cell_type": "code",
      "execution_count": 15,
      "metadata": {
        "colab": {
          "base_uri": "https://localhost:8080/"
        },
        "id": "d14e26a5-d770-4dac-a37b-1a4e8c1690cc",
        "outputId": "4fe84199-9efc-42d2-fff8-6b9f9a8e9cb7"
      },
      "outputs": [
        {
          "output_type": "stream",
          "name": "stdout",
          "text": [
            "['giraffe', 'gorilla', 'parrots']\n"
          ]
        }
      ],
      "source": [
        "# Write your code here\n",
        "Animals = [\"lion\", \"giraffe\", \"gorilla\", \"parrots\", \"crocodile\",\"deer\", \"swan\"]\n",
        "New = []\n",
        "i=0\n",
        "while i<len(Animals):\n",
        "    j=Animals[i]\n",
        "    if(len(j)==7):\n",
        "        New.append(j)\n",
        "    i=i+1\n",
        "print(New)"
      ]
    },
    {
      "cell_type": "markdown",
      "metadata": {
        "id": "356b2740-5216-4a50-8833-369f6b2d426b"
      },
      "source": [
        "<details><summary>Click here for hint</summary>\n",
        "\n",
        "Use while loop to iterate over the elements of the list. Use if-else statement inside the for loop to check the length of each element and if the length is 7, add the element to a new list.\n",
        "\n",
        "</details>\n"
      ]
    },
    {
      "cell_type": "markdown",
      "metadata": {
        "id": "25858f07-172c-4f4e-940e-6f463a313f75"
      },
      "source": [
        "<details><summary>Click here for the solution</summary>\n",
        "\n",
        "```python\n",
        "\n",
        "Animals = [\"lion\", \"giraffe\", \"gorilla\", \"parrots\", \"crocodile\",\"deer\", \"swan\"]\n",
        "New = []\n",
        "i=0\n",
        "while i<len(Animals):\n",
        "    j=Animals[i]\n",
        "    if(len(j)==7):\n",
        "        New.append(j)\n",
        "    i=i+1\n",
        "print(New)\n",
        "    \n",
        "```\n",
        "\n",
        "</details>\n"
      ]
    },
    {
      "cell_type": "markdown",
      "metadata": {
        "id": "3d671aa6-3d7a-44ca-ae8a-e78818182d45"
      },
      "source": [
        "<hr>\n",
        "\n",
        "<h3>Congratulations, you have completed lab on loops<h3>\n",
        "<hr>\n"
      ]
    },
    {
      "cell_type": "markdown",
      "metadata": {
        "id": "9f282f9d-4a52-486d-b3eb-655a543b9017"
      },
      "source": [
        "## Author\n",
        "\n",
        "<a href=\"https://www.linkedin.com/in/joseph-s-50398b136/?utm_medium=Exinfluencer&utm_source=Exinfluencer&utm_content=000026UJ&utm_term=10006555&utm_id=NA-SkillsNetwork-Channel-SkillsNetworkCoursesIBMDeveloperSkillsNetworkPY0101ENSkillsNetwork1005-2023-01-01\">Joseph Santarcangelo</a>\n",
        "\n",
        "\n",
        "## Other contributors\n",
        "\n",
        "<a href=\"www.linkedin.com/in/jiahui-mavis-zhou-a4537814a\">Mavis Zhou</a>\n",
        "\n",
        "\n",
        "## Change Log\n",
        "\n",
        "\n",
        "|  Date (YYYY-MM-DD) |  Version | Changed By  |  Change Description |\n",
        "|---|---|---|---|\n",
        "| 2023-05-10  | 2.4  | Shreya  | Added real-life practise problems |\n",
        "| 2022-05-12  | 2.3  | Amrutha  | Changed the markdown solution |\n",
        "| 2022-02-24  | 2.2  | Hema  | Changed the markdown solution |\n",
        "| 2022-01-10  | 2.1  | Malika  | Removed the readme for GitShare|\n",
        "| 2020-08-26  | 2.0  | Lavanya | Moved lab to course repo in GitLab |\n",
        "|   |   |   |   |\n",
        "|   |   |   |   |\n",
        "\n",
        "\n",
        "\n",
        "<hr/>\n",
        "\n",
        "## <h3 align=\"center\"> © IBM Corporation 2020. All rights reserved. <h3/>\n"
      ]
    }
  ],
  "metadata": {
    "kernelspec": {
      "display_name": "Python 3 (ipykernel)",
      "language": "python",
      "name": "python3"
    },
    "language_info": {
      "codemirror_mode": {
        "name": "ipython",
        "version": 3
      },
      "file_extension": ".py",
      "mimetype": "text/x-python",
      "name": "python",
      "nbconvert_exporter": "python",
      "pygments_lexer": "ipython3",
      "version": "3.11.5"
    },
    "colab": {
      "provenance": [],
      "include_colab_link": true
    }
  },
  "nbformat": 4,
  "nbformat_minor": 0
}